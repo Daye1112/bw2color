{
 "cells": [
  {
   "cell_type": "markdown",
   "metadata": {},
   "source": [
    "# 环境搭建"
   ]
  },
  {
   "cell_type": "markdown",
   "metadata": {},
   "source": [
    "# 换源"
   ]
  },
  {
   "cell_type": "markdown",
   "metadata": {},
   "source": [
    "在容器内/root下创建**sources.list**文件, 复制下列内容到文件中"
   ]
  },
  {
   "cell_type": "markdown",
   "metadata": {},
   "source": [
    "```bash\n",
    "deb http://mirrors.aliyun.com/ubuntu/ trusty main restricted universe multiverse\n",
    "deb http://mirrors.aliyun.com/ubuntu/ trusty-security main restricted universe multiverse\n",
    "deb http://mirrors.aliyun.com/ubuntu/ trusty-updates main restricted universe multiverse\n",
    "deb http://mirrors.aliyun.com/ubuntu/ trusty-proposed main restricted universe multiverse\n",
    "deb http://mirrors.aliyun.com/ubuntu/ trusty-backports main restricted universe multiverse\n",
    "deb-src http://mirrors.aliyun.com/ubuntu/ trusty main restricted universe multiverse\n",
    "deb-src http://mirrors.aliyun.com/ubuntu/ trusty-security main restricted universe multiverse\n",
    "deb-src http://mirrors.aliyun.com/ubuntu/ trusty-updates main restricted universe multiverse\n",
    "deb-src http://mirrors.aliyun.com/ubuntu/ trusty-proposed main restricted universe multiverse\n",
    "deb-src http://mirrors.aliyun.com/ubuntu/ trusty-backports main restricted universe multiverse\n",
    "```"
   ]
  },
  {
   "cell_type": "markdown",
   "metadata": {},
   "source": [
    "替换默认源为阿里源\n",
    "```bash\n",
    "cp source.txt /etc/apt/sources.list\n",
    "```"
   ]
  },
  {
   "cell_type": "markdown",
   "metadata": {},
   "source": [
    "## 安装解压工具\n",
    "```bash\n",
    "sudo apt install unzip\n",
    "```"
   ]
  },
  {
   "cell_type": "markdown",
   "metadata": {},
   "source": [
    "## Ubuntu16.04 升级 python3.5到 python3.6\n",
    "\n",
    "1. 在Ubuntu中安装python3.6\n",
    "```bash\n",
    "sudo apt-get install software-properties-common\n",
    "sudo add-apt-repository ppa:jonathonf/python-3.6 \n",
    "sudo apt-get update \n",
    "sudo apt-get install python3.6\n",
    "```\n",
    "2. 这个时候使用pip -V查询，会发现pip还是python3.5的pip，如何指向python3.6呢，首先是删除pip\n",
    "```bash\n",
    "sudo apt-get remove python3-pip\n",
    "sudo apt-get autoremove\n",
    "```\n",
    "3. 然后再安装pip\n",
    "```bash\n",
    "sudo apt-get install python3-pip\n",
    "```\n",
    "4. 切换python版本\n",
    "```bash\n",
    "sudo update-alternatives --install /usr/bin/python3 python3 /usr/bin/python3.5 1\n",
    "sudo update-alternatives --install /usr/bin/python3 python3 /usr/bin/python3.6 2\n",
    "sudo update-alternatives --config python3\n",
    "```\n",
    "\n",
    "4. 发现pip还是指向 python3.5的，这个时候再用python3.6指定升级一下pip：\n",
    "```bash\n",
    "python3.6 -m pip install --upgrade pip\n",
    "```\n",
    "\n",
    "5. 验证pip版本\n",
    "```bash\n",
    "python3 -V\n",
    "pip -V\n",
    "```"
   ]
  },
  {
   "cell_type": "markdown",
   "metadata": {},
   "source": [
    "安装openssh-server并启动\n",
    "\n",
    "apt-get update\n",
    "apt-get install openssh-server\n",
    "# 启动之前需手动创建/var/run/sshd，不然启动sshd的时候会报错\n",
    "\n",
    "mkdir -p /var/run/sshd\n",
    "\n",
    "# sshd以守护进程运行\n",
    "\n",
    "/usr/sbin/sshd -D &\n",
    "\n",
    "# 安装netstat，查看sshd是否监听22端口\n",
    "\n",
    "apt-get install net-tools\n",
    "netstat -apn | grep ssh\n",
    "\n",
    "如果已经监听22端口，说明sshd服务启动成功\n",
    "\n",
    "\n",
    "4.ssh登陆\n",
    "\n",
    "# 生成ssh key\n",
    "\n",
    "ssh-keygen -t rsa\n",
    "\n",
    "# 修改sshd-config允许root登陆\n",
    "\n",
    "sed -i 's+PermitRootLogin prohibit-password+PermitRootLogin yes' /etc/ssh/sshd-config\n",
    "\n",
    "修改完sshd-config之后需要重启sshd服务\n",
    "\n",
    "// 找到pid\n",
    "\n",
    "ps -aux | grep ssh\n",
    "kill -9 pid\n",
    "/usr/sbin/sshd -D &\n",
    "\n",
    "查看容器ip\n",
    "\n",
    "ifconfig\n",
    "\n",
    "在主机上进行登陆\n",
    "ssh root@ip"
   ]
  },
  {
   "cell_type": "markdown",
   "metadata": {},
   "source": [
    "## 环境检查\n",
    "\n",
    "本项目使用python3.6编写，推荐使用虚拟环境执行，以模块化方式加载\n",
    "```bash\n",
    "python3.6 -m venv venv\n",
    "source venv/bin/activate\n",
    "```\n",
    "\n",
    "## 安装项目依赖\n",
    "\n",
    "```bash\n",
    "sudo pip install -r requirements.txt -i https://pypi.douban.com/simple/\n",
    "```\n",
    "\n",
    "* bleach==1.5.0\n",
    "* certifi==2017.7.27.1\n",
    "* chardet==3.0.4\n",
    "* cycler==0.10.0\n",
    "* decorator==4.1.2\n",
    "* html5lib==0.9999999\n",
    "* idna==2.6\n",
    "* Keras==2.0.8\n",
    "* Markdown==2.6.9\n",
    "* matplotlib==2.1.0\n",
    "* networkx==2.0\n",
    "* numpy==1.13.3\n",
    "* olefile==0.44\n",
    "* Pillow==4.3.0\n",
    "* protobuf==3.4.0\n",
    "* pyparsing==2.2.0\n",
    "* python-dateutil==2.6.1\n",
    "* python-resize-image==1.1.11\n",
    "* pytz==2017.2\n",
    "* PyWavelets==0.5.2\n",
    "* PyYAML==3.12\n",
    "* requests==2.18.4\n",
    "* scikit-image==0.13.1\n",
    "* scipy==0.19.1\n",
    "* six==1.11.0\n",
    "* tensorflow==1.8.0\n",
    "* tensorflow-tensorboard==0.1.8\n",
    "* urllib3==1.22\n",
    "* Werkzeug==0.12.2\n",
    "\n",
    "apt install python-pil\n",
    "pip install python-resize-image"
   ]
  },
  {
   "cell_type": "markdown",
   "metadata": {},
   "source": [
    "## 安装tree显示文件目录树\n",
    "\n",
    "安装工具命令\n",
    "```bash\n",
    "sudo apt install tree\n",
    "```\n",
    "\n",
    "显示文件目录树请执行\n",
    "```bash\n",
    "tree ~/imagenet\n",
    "```\n",
    "\n",
    "```\n",
    "~/imagenet\n",
    "├── fall11_urls.txt\n",
    "├── imagenet1000_clsid_to_human.pkl\n",
    "├── inception_resnet_v2_2016_08_30.ckpt\n",
    "├── original\n",
    "├── resized\n",
    "└── tfrecords\n",
    "```"
   ]
  },
  {
   "cell_type": "markdown",
   "metadata": {},
   "source": [
    "## Python下 \"No module named _tkinter\" 问题解决过程总结\n",
    "\n",
    "如果在某些机型产生找不到模块_tkinter错误，请按照以下方法解决\n",
    "\n",
    "错误提示最后一行如下\n",
    "ImportError: No module named _tkinter\n",
    "\n",
    "请执行如下命令安装依赖\n",
    "```bash\n",
    "sudo apt install tk-dev (Ubuntu/Debian) \n",
    "yum install tk-devel (CentOS) \n",
    "```\n",
    "\n",
    "在安装之后，重新执行程序，错误仍然存在。\n",
    "\n",
    "```bash\n",
    "sudo apt install python3-tk (Ubuntu) \n",
    "yum install python3-tk (Centos)\n",
    "```"
   ]
  },
  {
   "cell_type": "markdown",
   "metadata": {},
   "source": [
    "## 下载数据集\n",
    "\n",
    "以imageNet数据集为例，但实际上我们使用的是ins的数据集，分为50个class，图片质量更高\n",
    "```bash\n",
    "python3 -m dataset.download -c 100 -s fall1_url.txt -o ~/imagenet/original/ --skip 1000\n",
    "```\n",
    "\n",
    "检查目录下文件数量(下载进度)\n",
    "```bash\n",
    "ls -l| grep \"^\" | wc -l\n",
    "```"
   ]
  },
  {
   "cell_type": "markdown",
   "metadata": {},
   "source": [
    "## 调整数据集的大小resize(299,299)\n",
    "```bash\n",
    "python3 -m dataset.resize -s ~/imagenet/original -o ~/imagenet/resized -v 1000 > ./log/resize.log\n",
    "```"
   ]
  },
  {
   "cell_type": "markdown",
   "metadata": {},
   "source": [
    "## 使用预训练模型写入数据\n",
    "```bash\n",
    "python3 -m dataset.lab_batch -c ~/imagenet/inception_resnet_v2_2016_08_30.ckpt\n",
    "```"
   ]
  },
  {
   "cell_type": "markdown",
   "metadata": {},
   "source": [
    "## 训练与评测模型\n",
    "\n",
    "划分训练集和验证集\n",
    "\n",
    "训练脚本将训练所有的训练图像，在每一个epoch结束的时候检查权值，并从测试集预测一些彩色图像并保存。\n",
    "\n",
    "```bash\n",
    "python3.6 -m colorization.train\n",
    "```\n",
    "\n",
    "加载预训练模型，图像必须先被序列化。\n",
    "\n",
    "```bash\n",
    "python3.6 -m colorization.evaluate\n",
    "```\n"
   ]
  },
  {
   "cell_type": "markdown",
   "metadata": {},
   "source": [
    "## 参考\n",
    "[环境安装教程](https://blog.csdn.net/silence1772/article/details/78118549)  \n",
    "[使用tf-slim的inception_resnet_v2预训练模型进行图像分类](https://blog.csdn.net/Wayne2019/article/details/78109357)  \n",
    "[Tensorflow源码编译，解决tf提示未使用SSE4.1 SSE4.2 AVX警告](https://blog.csdn.net/qq_36810544/article/details/78799037)"
   ]
  }
 ],
 "metadata": {
  "kernelspec": {
   "display_name": "Python 3",
   "language": "python",
   "name": "python3"
  },
  "language_info": {
   "codemirror_mode": {
    "name": "ipython",
    "version": 3
   },
   "file_extension": ".py",
   "mimetype": "text/x-python",
   "name": "python",
   "nbconvert_exporter": "python",
   "pygments_lexer": "ipython3",
   "version": "3.6.7"
  }
 },
 "nbformat": 4,
 "nbformat_minor": 2
}
